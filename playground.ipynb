{
 "cells": [
  {
   "cell_type": "code",
   "execution_count": 37,
   "metadata": {},
   "outputs": [],
   "source": [
    "import configparser\n",
    "import pymysql\n",
    "\n",
    "parser = configparser.ConfigParser()\n",
    "parser.read('pipeline.conf')\n",
    "\n",
    "# Grabing the values from the config file\n",
    "hostname = parser.get(\"mysql_config\", \"hostname\")\n",
    "port = parser.get(\"mysql_config\", \"port\")\n",
    "username = parser.get(\"mysql_config\", \"username\")\n",
    "dbname = parser.get(\"mysql_config\", \"database\")\n",
    "password = parser.get(\"mysql_config\", \"password\")\n",
    "\n",
    "\n",
    "conn = pymysql.connect(host=hostname,\n",
    "        user=username,\n",
    "        password=password,\n",
    "        db=dbname,\n",
    "        port=int(port))\n",
    "        \n",
    "cursor = conn.cursor()\n",
    "\n"
   ]
  },
  {
   "cell_type": "code",
   "execution_count": null,
   "metadata": {},
   "outputs": [],
   "source": [
    "cursor."
   ]
  },
  {
   "cell_type": "code",
   "execution_count": null,
   "metadata": {},
   "outputs": [],
   "source": []
  }
 ],
 "metadata": {
  "kernelspec": {
   "display_name": "Python 3.10.6 ('Playground': venv)",
   "language": "python",
   "name": "python3"
  },
  "language_info": {
   "codemirror_mode": {
    "name": "ipython",
    "version": 3
   },
   "file_extension": ".py",
   "mimetype": "text/x-python",
   "name": "python",
   "nbconvert_exporter": "python",
   "pygments_lexer": "ipython3",
   "version": "3.10.6"
  },
  "orig_nbformat": 4,
  "vscode": {
   "interpreter": {
    "hash": "f7a8c2ec00e746dc01845287c26fdea641f2777eab84d7562ed4f89d573c3a1b"
   }
  }
 },
 "nbformat": 4,
 "nbformat_minor": 2
}
